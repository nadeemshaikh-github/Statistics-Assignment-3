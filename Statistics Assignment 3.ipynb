{
 "cells": [
  {
   "cell_type": "markdown",
   "metadata": {},
   "source": [
    "# Statistics Assignment 3"
   ]
  },
  {
   "cell_type": "code",
   "execution_count": 1,
   "metadata": {},
   "outputs": [],
   "source": [
    "import numpy as np\n",
    "import scipy.stats as stats"
   ]
  },
  {
   "cell_type": "code",
   "execution_count": 5,
   "metadata": {},
   "outputs": [],
   "source": [
    "def z_stat(samp_mean,pop_mean,se):\n",
    "    return(samp_mean-pop_mean)/se\n",
    "def t_stat(samp_mean,pop_mean,se):\n",
    "    return(samp_mean-pop_mean)/se\n",
    "def sample_error(std,n):\n",
    "    return std/(np.sqrt(n))\n",
    "def z_test_pop_proportions(p1,p2,se):\n",
    "    return((p1-p2)/se)\n",
    "def sample_error_pop_proportions(p1,p2,n1,n2):\n",
    "    return np.sqrt(((p1*(1-p1))/n1)+((p2*(1-p2))/n2))"
   ]
  },
  {
   "cell_type": "markdown",
   "metadata": {},
   "source": [
    "## Problem Statement 1:\n",
    "\n",
    "**Blood glucose levels for obese patients have a mean of 100 with a standard deviation of 15.**\n",
    "\n",
    "**A researcher thinks  that  a  diet  high  in  raw  cornstarch will have  a positive  effect on blood glucose levels.**  \n",
    "\n",
    "**A  sample  of  36  patients  who  have  tried  the  raw  cornstarch  diet have  a  mean  glucose  level  of  108.**  \n",
    "\n",
    "**Test  the  hypothesis  that  the  raw  cornstarch  had  an effect or not.**"
   ]
  },
  {
   "cell_type": "markdown",
   "metadata": {},
   "source": [
    "***Null Hypothesis H0: mean=100 (The raw cornstarch has no effect)***\n",
    "\n",
    "***Alternative Hypothesis H1: mean!=100 (The raw cornstarch had an effect) (Two-tailed test)***"
   ]
  },
  {
   "cell_type": "code",
   "execution_count": 8,
   "metadata": {},
   "outputs": [
    {
     "name": "stdout",
     "output_type": "stream",
     "text": [
      "Null Hypothesis is rejected (The raw cornstarch has an effect)\n"
     ]
    }
   ],
   "source": [
    "alpha = 0.05\n",
    "#Since the sample size>30, we must use z-test\n",
    "z = z_stat(samp_mean=108,pop_mean=100,se=sample_error(std=15,n=36))\n",
    "p = 2*(1-stats.norm.cdf(np.absolute(z)))\n",
    "if p<alpha:\n",
    "    print('Null Hypothesis is rejected (The raw cornstarch has an effect)')\n",
    "else:\n",
    "    print('Null Hypothesis is accepted (The raw conrstarch has no effect)')"
   ]
  },
  {
   "cell_type": "markdown",
   "metadata": {},
   "source": [
    "___"
   ]
  },
  {
   "cell_type": "markdown",
   "metadata": {},
   "source": [
    "## Problem Statement 2:\n",
    "\n",
    "**In  one  state,  52%  of  the  voters  are  Republicans,  and  48%  are Democrats.**  \n",
    "\n",
    "**In  a  second state,  47%  of  the  voters  are  Republicans,  and  53%  are  Democrats.**  \n",
    "\n",
    "**Suppose  a  simple random sample of 100 voters are surveyed from each state.**\n",
    "\n",
    "**What  is  the  probability  that  the  survey  will  show  a  greater  percentage  of  Republican voters in the second state than in the first state?**"
   ]
  },
  {
   "cell_type": "markdown",
   "metadata": {},
   "source": [
    "*Given data:*\n",
    "\n",
    "*Population 1:*\n",
    "\n",
    "*p1(Republicans)=0.52*\n",
    "\n",
    "*p1(Democrats)=0.48*\n",
    "\n",
    "*n1=100*\n",
    "\n",
    "*Population 2:*\n",
    "\n",
    "*p2(Republicans)=0.47*\n",
    "\n",
    "*p2(Democrats)=0.53*\n",
    "\n",
    "*n2=100*"
   ]
  },
  {
   "cell_type": "markdown",
   "metadata": {},
   "source": [
    "***Null Hypothesis H0: mean1(Republicans)=mean2(Republicans)***\n",
    "    \n",
    "***Alternative Hypothesis H1: mean2(Republicans)>mean1(Republicans) (One-tailed test) (Right-tailed)*** OR \n",
    "***mean1(Republicans)<mean2(Republicans) (Left-tailed)***"
   ]
  },
  {
   "cell_type": "code",
   "execution_count": 11,
   "metadata": {},
   "outputs": [
    {
     "name": "stdout",
     "output_type": "stream",
     "text": [
      "The probability that the survey will show a greater percentage of Republican voters in the second state than in the first state is : 0.23946399182220013\n"
     ]
    }
   ],
   "source": [
    "z = z_test_pop_proportions(p1=0.52,p2=0.47,se=sample_error_pop_proportions(p1=0.52,p2=0.47,n1=100,n2=100))\n",
    "p = stats.norm.cdf(z)\n",
    "print('The probability that the survey will show a greater percentage of Republican voters in the second state than in the first state is :', 1-p)"
   ]
  },
  {
   "cell_type": "markdown",
   "metadata": {},
   "source": [
    "_____"
   ]
  },
  {
   "cell_type": "markdown",
   "metadata": {},
   "source": [
    "## Problem Statement 3:\n",
    "\n",
    "**You take the SAT and score 1100.** \n",
    "\n",
    "**The mean score for the SAT is 1026 and the standard deviation is 209.** \n",
    "\n",
    "**How well did you score on the test compared to the average test taker?**"
   ]
  },
  {
   "cell_type": "code",
   "execution_count": 16,
   "metadata": {},
   "outputs": [
    {
     "name": "stdout",
     "output_type": "stream",
     "text": [
      "The z-score of the data is : 0.35406698564593303\n",
      "The above z_score indicates that my score is 0.35406698564593303 standard deviation away from the mean SAT score\n"
     ]
    }
   ],
   "source": [
    "z_score = (1100-1026)/209\n",
    "print('The z-score of the data is :', z_score)\n",
    "print('The above z_score indicates that my score is {} standard deviation away from the mean SAT score'.format(z_score))"
   ]
  }
 ],
 "metadata": {
  "kernelspec": {
   "display_name": "Python 3",
   "language": "python",
   "name": "python3"
  },
  "language_info": {
   "codemirror_mode": {
    "name": "ipython",
    "version": 3
   },
   "file_extension": ".py",
   "mimetype": "text/x-python",
   "name": "python",
   "nbconvert_exporter": "python",
   "pygments_lexer": "ipython3",
   "version": "3.8.3"
  }
 },
 "nbformat": 4,
 "nbformat_minor": 4
}
